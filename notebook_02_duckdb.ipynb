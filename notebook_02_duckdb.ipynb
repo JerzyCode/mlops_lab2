{
 "cells": [
  {
   "cell_type": "markdown",
   "id": "fc1a78ee-5fa1-4ea1-8da6-4d5e82fa48b8",
   "metadata": {
    "collapsed": true,
    "jupyter": {
     "outputs_hidden": true
    }
   },
   "source": [
    "# DuckDB and file formats"
   ]
  },
  {
   "cell_type": "markdown",
   "id": "86a250cc-1273-4eb6-969e-d77eafd73739",
   "metadata": {},
   "source": [
    "This tutorial is slightly based on the DuckDB [tutorial](https://duckdb.org/2024/05/31/analyzing-railway-traffic-in-the-netherlands.html)."
   ]
  },
  {
   "cell_type": "markdown",
   "id": "cdcf24e0-2938-4fbc-a5be-de4b98c02110",
   "metadata": {},
   "source": [
    "## Reading from files"
   ]
  },
  {
   "cell_type": "markdown",
   "id": "f1b2674c-a7ff-468e-875b-ea47fa4cad99",
   "metadata": {},
   "source": [
    "The only thing needed to run DuckDB is importing it. To compare with Postgres, we will read the CSV file with train services in 2024.\n",
    "\n",
    "By the way, it's highly recommended to always use multi-line strings in triple quotes for all queries, even the simplest ones. It makes them more readable, easier to modify, and removes escaping quotes."
   ]
  },
  {
   "cell_type": "code",
   "execution_count": 1,
   "id": "64b85715-0ccf-45e0-ba41-3a8103ea2f17",
   "metadata": {
    "scrolled": true
   },
   "outputs": [
    {
     "data": {
      "text/plain": [
       "┌────────────────┬──────────────┬──────────────┬─────────────────┬──────────────────────┬──────────────────────────────┬──────────────────────────┬───────────────────────┬─────────────┬───────────────────┬──────────────────────────┬──────────────────────────┬────────────────────┬────────────────────────┬──────────────────────────┬──────────────────────┬──────────────────────────┬──────────────────────┬───────────────────────┬──────────────────────┐\n",
       "│ Service:RDT-ID │ Service:Date │ Service:Type │ Service:Company │ Service:Train number │ Service:Completely cancelled │ Service:Partly cancelled │ Service:Maximum delay │ Stop:RDT-ID │ Stop:Station code │    Stop:Station name     │    Stop:Arrival time     │ Stop:Arrival delay │ Stop:Arrival cancelled │   Stop:Departure time    │ Stop:Departure delay │ Stop:Departure cancelled │ Stop:Platform change │ Stop:Planned platform │ Stop:Actual platform │\n",
       "│     int64      │     date     │   varchar    │     varchar     │        int64         │           boolean            │         boolean          │         int64         │    int64    │      varchar      │         varchar          │ timestamp with time zone │       int64        │        boolean         │ timestamp with time zone │        int64         │         boolean          │       boolean        │        varchar        │       varchar        │\n",
       "├────────────────┼──────────────┼──────────────┼─────────────────┼──────────────────────┼──────────────────────────────┼──────────────────────────┼───────────────────────┼─────────────┼───────────────────┼──────────────────────────┼──────────────────────────┼────────────────────┼────────────────────────┼──────────────────────────┼──────────────────────┼──────────────────────────┼──────────────────────┼───────────────────────┼──────────────────────┤\n",
       "│       12690865 │ 2024-01-01   │ Intercity    │ NS              │                 1410 │ false                        │ false                    │                     2 │   114307592 │ RTD               │ Rotterdam Centraal       │ NULL                     │               NULL │ NULL                   │ 2024-01-01 02:00:00+01   │                    0 │ false                    │ false                │ 9                     │ 9                    │\n",
       "│       12690865 │ 2024-01-01   │ Intercity    │ NS              │                 1410 │ false                        │ false                    │                     0 │   114307593 │ DT                │ Delft                    │ 2024-01-01 02:13:00+01   │                  0 │ false                  │ 2024-01-01 02:13:00+01   │                    0 │ false                    │ false                │ 1                     │ 1                    │\n",
       "│       12690865 │ 2024-01-01   │ Intercity    │ NS              │                 1410 │ false                        │ false                    │                     0 │   114307594 │ GV                │ Den Haag HS              │ 2024-01-01 02:21:00+01   │                  0 │ false                  │ 2024-01-01 02:22:00+01   │                    0 │ false                    │ false                │ 6                     │ 6                    │\n",
       "│       12690865 │ 2024-01-01   │ Intercity    │ NS              │                 1410 │ false                        │ false                    │                     0 │   114307595 │ LEDN              │ Leiden Centraal          │ 2024-01-01 02:35:00+01   │                  0 │ false                  │ 2024-01-01 02:40:00+01   │                    0 │ false                    │ true                 │ 5b                    │ 8b                   │\n",
       "│       12690865 │ 2024-01-01   │ Intercity    │ NS              │                 1410 │ false                        │ false                    │                     0 │   114307596 │ SHL               │ Schiphol Airport         │ 2024-01-01 03:00:00+01   │                  0 │ false                  │ 2024-01-01 03:03:00+01   │                    0 │ false                    │ false                │ 3                     │ 3                    │\n",
       "│       12690865 │ 2024-01-01   │ Intercity    │ NS              │                 1410 │ false                        │ false                    │                     0 │   114307597 │ ASS               │ Amsterdam Sloterdijk     │ 2024-01-01 03:12:00+01   │                  0 │ false                  │ 2024-01-01 03:12:00+01   │                    0 │ false                    │ false                │ 12                    │ 12                   │\n",
       "│       12690865 │ 2024-01-01   │ Intercity    │ NS              │                 1410 │ false                        │ false                    │                     0 │   114307598 │ ASD               │ Amsterdam Centraal       │ 2024-01-01 03:18:00+01   │                  1 │ false                  │ 2024-01-01 03:20:00+01   │                    2 │ false                    │ false                │ 4                     │ 4                    │\n",
       "│       12690865 │ 2024-01-01   │ Intercity    │ NS              │                 1410 │ false                        │ false                    │                     0 │   114307599 │ ASB               │ Amsterdam Bijlmer ArenA  │ 2024-01-01 03:31:00+01   │                  2 │ false                  │ 2024-01-01 03:31:00+01   │                    2 │ false                    │ false                │ 8                     │ 8                    │\n",
       "│       12690865 │ 2024-01-01   │ Intercity    │ NS              │                 1410 │ false                        │ false                    │                     0 │   114307600 │ UT                │ Utrecht Centraal         │ 2024-01-01 03:50:00+01   │                  0 │ false                  │ NULL                     │                 NULL │ NULL                     │ false                │ 15                    │ 15                   │\n",
       "│       12690866 │ 2024-01-01   │ Nightjet     │ NS Int          │                  420 │ false                        │ false                    │                     6 │   114307601 │ NURNB             │ Nürnberg Hbf             │ NULL                     │               NULL │ NULL                   │ 2024-01-01 02:01:00+01   │                    0 │ false                    │ false                │ NULL                  │ NULL                 │\n",
       "│           ·    │     ·        │    ·         │ ·               │                   ·  │   ·                          │   ·                      │                     · │       ·     │ ·                 │      ·                   │  ·                       │                  · │  ·                     │           ·              │                    · │   ·                      │   ·                  │ ·                     │ ·                    │\n",
       "│           ·    │     ·        │    ·         │ ·               │                   ·  │   ·                          │   ·                      │                     · │       ·     │ ·                 │      ·                   │  ·                       │                  · │  ·                     │           ·              │                    · │   ·                      │   ·                  │ ·                     │ ·                    │\n",
       "│           ·    │     ·        │    ·         │ ·               │                   ·  │   ·                          │   ·                      │                     · │       ·     │ ·                 │      ·                   │  ·                       │                  · │  ·                     │           ·              │                    · │   ·                      │   ·                  │ ·                     │ ·                    │\n",
       "│       12691967 │ 2024-01-01   │ Intercity    │ NS              │                 2944 │ false                        │ false                    │                     0 │   114318419 │ UT                │ Utrecht Centraal         │ 2024-01-01 13:51:00+01   │                  0 │ false                  │ 2024-01-01 13:53:00+01   │                    0 │ false                    │ false                │ 7                     │ 7                    │\n",
       "│       12691967 │ 2024-01-01   │ Intercity    │ NS              │                 2944 │ false                        │ false                    │                     0 │   114318420 │ ASA               │ Amsterdam Amstel         │ 2024-01-01 14:11:00+01   │                  0 │ false                  │ 2024-01-01 14:11:00+01   │                    0 │ false                    │ false                │ 1                     │ 1                    │\n",
       "│       12691967 │ 2024-01-01   │ Intercity    │ NS              │                 2944 │ false                        │ false                    │                     0 │   114318421 │ ASD               │ Amsterdam Centraal       │ 2024-01-01 14:19:00+01   │                  0 │ false                  │ 2024-01-01 14:23:00+01   │                    2 │ false                    │ false                │ 8a                    │ 8a                   │\n",
       "│       12691967 │ 2024-01-01   │ Intercity    │ NS              │                 2944 │ false                        │ false                    │                     0 │   114318422 │ ASS               │ Amsterdam Sloterdijk     │ 2024-01-01 14:29:00+01   │                  5 │ false                  │ 2024-01-01 14:29:00+01   │                    5 │ false                    │ false                │ 3                     │ 3                    │\n",
       "│       12691967 │ 2024-01-01   │ Intercity    │ NS              │                 2944 │ false                        │ false                    │                     0 │   114318423 │ HN                │ Hoorn                    │ 2024-01-01 14:55:00+01   │                  3 │ false                  │ 2024-01-01 14:59:00+01   │                    0 │ false                    │ false                │ 1                     │ 1                    │\n",
       "│       12691967 │ 2024-01-01   │ Intercity    │ NS              │                 2944 │ false                        │ false                    │                     0 │   114318424 │ HNK               │ Hoorn Kersenboogerd      │ 2024-01-01 15:03:00+01   │                  0 │ false                  │ 2024-01-01 15:03:00+01   │                    0 │ false                    │ false                │ 2                     │ 2                    │\n",
       "│       12691967 │ 2024-01-01   │ Intercity    │ NS              │                 2944 │ false                        │ false                    │                     0 │   114318425 │ HKS               │ Hoogkarspel              │ 2024-01-01 15:10:00+01   │                  0 │ false                  │ 2024-01-01 15:10:00+01   │                    0 │ false                    │ false                │ 2                     │ 2                    │\n",
       "│       12691967 │ 2024-01-01   │ Intercity    │ NS              │                 2944 │ false                        │ false                    │                     0 │   114318426 │ BKG               │ Bovenkarspel-Grootebroek │ 2024-01-01 15:15:00+01   │                  0 │ false                  │ 2024-01-01 15:17:00+01   │                    0 │ false                    │ false                │ 1                     │ 1                    │\n",
       "│       12691967 │ 2024-01-01   │ Intercity    │ NS              │                 2944 │ false                        │ false                    │                     0 │   114318427 │ BKF               │ Bovenkarspel Flora       │ 2024-01-01 15:19:00+01   │                  0 │ false                  │ 2024-01-01 15:19:00+01   │                    0 │ false                    │ false                │ 1                     │ 1                    │\n",
       "│       12691967 │ 2024-01-01   │ Intercity    │ NS              │                 2944 │ false                        │ false                    │                     0 │   114318428 │ EKZ               │ Enkhuizen                │ 2024-01-01 15:23:00+01   │                  0 │ false                  │ NULL                     │                 NULL │ NULL                     │ false                │ 1                     │ 1                    │\n",
       "├────────────────┴──────────────┴──────────────┴─────────────────┴──────────────────────┴──────────────────────────────┴──────────────────────────┴───────────────────────┴─────────────┴───────────────────┴──────────────────────────┴──────────────────────────┴────────────────────┴────────────────────────┴──────────────────────────┴──────────────────────┴──────────────────────────┴──────────────────────┴───────────────────────┴──────────────────────┤\n",
       "│ ? rows (>9999 rows, 20 shown)                                                                                                                                                                                                                                                                                                                                                                                                                         20 columns │\n",
       "└──────────────────────────────────────────────────────────────────────────────────────────────────────────────────────────────────────────────────────────────────────────────────────────────────────────────────────────────────────────────────────────────────────────────────────────────────────────────────────────────────────────────────────────────────────────────────────────────────────────────────────────────────────────────────────────────────┘"
      ]
     },
     "execution_count": 1,
     "metadata": {},
     "output_type": "execute_result"
    }
   ],
   "source": [
    "import duckdb\n",
    "\n",
    "duckdb.sql(\"\"\"\n",
    "SELECT *\n",
    "FROM \"data/services-2024.csv\"\n",
    "\"\"\")"
   ]
  },
  {
   "cell_type": "markdown",
   "id": "9e1fcdcc-cea5-4de0-bc33-f1e39d872ff6",
   "metadata": {},
   "source": [
    "Now that was fast and easy! DuckDB parses CSV and infers type with [quite advanced features](https://duckdb.org/docs/stable/data/csv/auto_detection.html). You can also specify options manually ([documentation](https://duckdb.org/docs/stable/data/csv/overview.html)), e.g.:\n",
    "\n",
    "`FROM read_csv(\"flights.csv\", delim = \"|\")`.\n",
    "\n",
    "Jupyter Notebook automatically prints the results, but we could also save them and call `.show()` explicitly. It is returned as `DuckDBPyRelation` object ([documentation](https://duckdb.org/docs/stable/clients/python/reference/#duckdb.DuckDBPyRelation)). You can use the object-oriented Relational API ([documentation](https://duckdb.org/docs/stable/clients/python/relational_api.html)) instead of writing SQL to compose queries based on Python language constructs. It's less popular than SQL though, and can be less readable."
   ]
  },
  {
   "cell_type": "code",
   "execution_count": 2,
   "id": "4229d5ae-8736-4187-8dbe-af184bddfa2a",
   "metadata": {
    "scrolled": true
   },
   "outputs": [
    {
     "name": "stdout",
     "output_type": "stream",
     "text": [
      "<class '_duckdb.DuckDBPyRelation'>\n",
      "┌────────────────┬──────────────┬──────────────┬─────────────────┬──────────────────────┬──────────────────────────────┬──────────────────────────┬───────────────────────┬─────────────┬───────────────────┬──────────────────────────┬──────────────────────────┬────────────────────┬────────────────────────┬──────────────────────────┬──────────────────────┬──────────────────────────┬──────────────────────┬───────────────────────┬──────────────────────┐\n",
      "│ Service:RDT-ID │ Service:Date │ Service:Type │ Service:Company │ Service:Train number │ Service:Completely cancelled │ Service:Partly cancelled │ Service:Maximum delay │ Stop:RDT-ID │ Stop:Station code │    Stop:Station name     │    Stop:Arrival time     │ Stop:Arrival delay │ Stop:Arrival cancelled │   Stop:Departure time    │ Stop:Departure delay │ Stop:Departure cancelled │ Stop:Platform change │ Stop:Planned platform │ Stop:Actual platform │\n",
      "│     int64      │     date     │   varchar    │     varchar     │        int64         │           boolean            │         boolean          │         int64         │    int64    │      varchar      │         varchar          │ timestamp with time zone │       int64        │        boolean         │ timestamp with time zone │        int64         │         boolean          │       boolean        │        varchar        │       varchar        │\n",
      "├────────────────┼──────────────┼──────────────┼─────────────────┼──────────────────────┼──────────────────────────────┼──────────────────────────┼───────────────────────┼─────────────┼───────────────────┼──────────────────────────┼──────────────────────────┼────────────────────┼────────────────────────┼──────────────────────────┼──────────────────────┼──────────────────────────┼──────────────────────┼───────────────────────┼──────────────────────┤\n",
      "│       12690865 │ 2024-01-01   │ Intercity    │ NS              │                 1410 │ false                        │ false                    │                     2 │   114307592 │ RTD               │ Rotterdam Centraal       │ NULL                     │               NULL │ NULL                   │ 2024-01-01 02:00:00+01   │                    0 │ false                    │ false                │ 9                     │ 9                    │\n",
      "│       12690865 │ 2024-01-01   │ Intercity    │ NS              │                 1410 │ false                        │ false                    │                     0 │   114307593 │ DT                │ Delft                    │ 2024-01-01 02:13:00+01   │                  0 │ false                  │ 2024-01-01 02:13:00+01   │                    0 │ false                    │ false                │ 1                     │ 1                    │\n",
      "│       12690865 │ 2024-01-01   │ Intercity    │ NS              │                 1410 │ false                        │ false                    │                     0 │   114307594 │ GV                │ Den Haag HS              │ 2024-01-01 02:21:00+01   │                  0 │ false                  │ 2024-01-01 02:22:00+01   │                    0 │ false                    │ false                │ 6                     │ 6                    │\n",
      "│       12690865 │ 2024-01-01   │ Intercity    │ NS              │                 1410 │ false                        │ false                    │                     0 │   114307595 │ LEDN              │ Leiden Centraal          │ 2024-01-01 02:35:00+01   │                  0 │ false                  │ 2024-01-01 02:40:00+01   │                    0 │ false                    │ true                 │ 5b                    │ 8b                   │\n",
      "│       12690865 │ 2024-01-01   │ Intercity    │ NS              │                 1410 │ false                        │ false                    │                     0 │   114307596 │ SHL               │ Schiphol Airport         │ 2024-01-01 03:00:00+01   │                  0 │ false                  │ 2024-01-01 03:03:00+01   │                    0 │ false                    │ false                │ 3                     │ 3                    │\n",
      "│       12690865 │ 2024-01-01   │ Intercity    │ NS              │                 1410 │ false                        │ false                    │                     0 │   114307597 │ ASS               │ Amsterdam Sloterdijk     │ 2024-01-01 03:12:00+01   │                  0 │ false                  │ 2024-01-01 03:12:00+01   │                    0 │ false                    │ false                │ 12                    │ 12                   │\n",
      "│       12690865 │ 2024-01-01   │ Intercity    │ NS              │                 1410 │ false                        │ false                    │                     0 │   114307598 │ ASD               │ Amsterdam Centraal       │ 2024-01-01 03:18:00+01   │                  1 │ false                  │ 2024-01-01 03:20:00+01   │                    2 │ false                    │ false                │ 4                     │ 4                    │\n",
      "│       12690865 │ 2024-01-01   │ Intercity    │ NS              │                 1410 │ false                        │ false                    │                     0 │   114307599 │ ASB               │ Amsterdam Bijlmer ArenA  │ 2024-01-01 03:31:00+01   │                  2 │ false                  │ 2024-01-01 03:31:00+01   │                    2 │ false                    │ false                │ 8                     │ 8                    │\n",
      "│       12690865 │ 2024-01-01   │ Intercity    │ NS              │                 1410 │ false                        │ false                    │                     0 │   114307600 │ UT                │ Utrecht Centraal         │ 2024-01-01 03:50:00+01   │                  0 │ false                  │ NULL                     │                 NULL │ NULL                     │ false                │ 15                    │ 15                   │\n",
      "│       12690866 │ 2024-01-01   │ Nightjet     │ NS Int          │                  420 │ false                        │ false                    │                     6 │   114307601 │ NURNB             │ Nürnberg Hbf             │ NULL                     │               NULL │ NULL                   │ 2024-01-01 02:01:00+01   │                    0 │ false                    │ false                │ NULL                  │ NULL                 │\n",
      "│           ·    │     ·        │    ·         │ ·               │                   ·  │   ·                          │   ·                      │                     · │       ·     │ ·                 │      ·                   │  ·                       │                  · │  ·                     │           ·              │                    · │   ·                      │   ·                  │ ·                     │ ·                    │\n",
      "│           ·    │     ·        │    ·         │ ·               │                   ·  │   ·                          │   ·                      │                     · │       ·     │ ·                 │      ·                   │  ·                       │                  · │  ·                     │           ·              │                    · │   ·                      │   ·                  │ ·                     │ ·                    │\n",
      "│           ·    │     ·        │    ·         │ ·               │                   ·  │   ·                          │   ·                      │                     · │       ·     │ ·                 │      ·                   │  ·                       │                  · │  ·                     │           ·              │                    · │   ·                      │   ·                  │ ·                     │ ·                    │\n",
      "│       12691967 │ 2024-01-01   │ Intercity    │ NS              │                 2944 │ false                        │ false                    │                     0 │   114318419 │ UT                │ Utrecht Centraal         │ 2024-01-01 13:51:00+01   │                  0 │ false                  │ 2024-01-01 13:53:00+01   │                    0 │ false                    │ false                │ 7                     │ 7                    │\n",
      "│       12691967 │ 2024-01-01   │ Intercity    │ NS              │                 2944 │ false                        │ false                    │                     0 │   114318420 │ ASA               │ Amsterdam Amstel         │ 2024-01-01 14:11:00+01   │                  0 │ false                  │ 2024-01-01 14:11:00+01   │                    0 │ false                    │ false                │ 1                     │ 1                    │\n",
      "│       12691967 │ 2024-01-01   │ Intercity    │ NS              │                 2944 │ false                        │ false                    │                     0 │   114318421 │ ASD               │ Amsterdam Centraal       │ 2024-01-01 14:19:00+01   │                  0 │ false                  │ 2024-01-01 14:23:00+01   │                    2 │ false                    │ false                │ 8a                    │ 8a                   │\n",
      "│       12691967 │ 2024-01-01   │ Intercity    │ NS              │                 2944 │ false                        │ false                    │                     0 │   114318422 │ ASS               │ Amsterdam Sloterdijk     │ 2024-01-01 14:29:00+01   │                  5 │ false                  │ 2024-01-01 14:29:00+01   │                    5 │ false                    │ false                │ 3                     │ 3                    │\n",
      "│       12691967 │ 2024-01-01   │ Intercity    │ NS              │                 2944 │ false                        │ false                    │                     0 │   114318423 │ HN                │ Hoorn                    │ 2024-01-01 14:55:00+01   │                  3 │ false                  │ 2024-01-01 14:59:00+01   │                    0 │ false                    │ false                │ 1                     │ 1                    │\n",
      "│       12691967 │ 2024-01-01   │ Intercity    │ NS              │                 2944 │ false                        │ false                    │                     0 │   114318424 │ HNK               │ Hoorn Kersenboogerd      │ 2024-01-01 15:03:00+01   │                  0 │ false                  │ 2024-01-01 15:03:00+01   │                    0 │ false                    │ false                │ 2                     │ 2                    │\n",
      "│       12691967 │ 2024-01-01   │ Intercity    │ NS              │                 2944 │ false                        │ false                    │                     0 │   114318425 │ HKS               │ Hoogkarspel              │ 2024-01-01 15:10:00+01   │                  0 │ false                  │ 2024-01-01 15:10:00+01   │                    0 │ false                    │ false                │ 2                     │ 2                    │\n",
      "│       12691967 │ 2024-01-01   │ Intercity    │ NS              │                 2944 │ false                        │ false                    │                     0 │   114318426 │ BKG               │ Bovenkarspel-Grootebroek │ 2024-01-01 15:15:00+01   │                  0 │ false                  │ 2024-01-01 15:17:00+01   │                    0 │ false                    │ false                │ 1                     │ 1                    │\n",
      "│       12691967 │ 2024-01-01   │ Intercity    │ NS              │                 2944 │ false                        │ false                    │                     0 │   114318427 │ BKF               │ Bovenkarspel Flora       │ 2024-01-01 15:19:00+01   │                  0 │ false                  │ 2024-01-01 15:19:00+01   │                    0 │ false                    │ false                │ 1                     │ 1                    │\n",
      "│       12691967 │ 2024-01-01   │ Intercity    │ NS              │                 2944 │ false                        │ false                    │                     0 │   114318428 │ EKZ               │ Enkhuizen                │ 2024-01-01 15:23:00+01   │                  0 │ false                  │ NULL                     │                 NULL │ NULL                     │ false                │ 1                     │ 1                    │\n",
      "├────────────────┴──────────────┴──────────────┴─────────────────┴──────────────────────┴──────────────────────────────┴──────────────────────────┴───────────────────────┴─────────────┴───────────────────┴──────────────────────────┴──────────────────────────┴────────────────────┴────────────────────────┴──────────────────────────┴──────────────────────┴──────────────────────────┴──────────────────────┴───────────────────────┴──────────────────────┤\n",
      "│ ? rows (>9999 rows, 20 shown)                                                                                                                                                                                                                                                                                                                                                                                                                         20 columns │\n",
      "└──────────────────────────────────────────────────────────────────────────────────────────────────────────────────────────────────────────────────────────────────────────────────────────────────────────────────────────────────────────────────────────────────────────────────────────────────────────────────────────────────────────────────────────────────────────────────────────────────────────────────────────────────────────────────────────────────┘\n",
      "\n"
     ]
    }
   ],
   "source": [
    "results = duckdb.sql(\"\"\"\n",
    "SELECT *\n",
    "FROM \"data/services-2024.csv\"\n",
    "\"\"\")\n",
    "print(type(results))\n",
    "results.show()"
   ]
  },
  {
   "cell_type": "code",
   "execution_count": 3,
   "id": "33383868-d7b8-48f4-bcd2-dc1ca4dfdd19",
   "metadata": {
    "scrolled": true
   },
   "outputs": [
    {
     "data": {
      "application/vnd.jupyter.widget-view+json": {
       "model_id": "3b5b1d1537714f52ae8766783262f1b2",
       "version_major": 2,
       "version_minor": 0
      },
      "text/plain": [
       "FloatProgress(value=0.0, layout=Layout(width='auto'), style=ProgressStyle(bar_color='black'))"
      ]
     },
     "metadata": {},
     "output_type": "display_data"
    },
    {
     "name": "stdout",
     "output_type": "stream",
     "text": [
      "┌────────────────┬──────────────┬──────────────┬─────────────────┬──────────────────────┬──────────────────────────────┬──────────────────────────┬───────────────────────┬─────────────┬───────────────────┬─────────────────────────┬──────────────────────────┬────────────────────┬────────────────────────┬──────────────────────────┬──────────────────────┬──────────────────────────┬──────────────────────┬───────────────────────┬──────────────────────┐\n",
      "│ Service:RDT-ID │ Service:Date │ Service:Type │ Service:Company │ Service:Train number │ Service:Completely cancelled │ Service:Partly cancelled │ Service:Maximum delay │ Stop:RDT-ID │ Stop:Station code │    Stop:Station name    │    Stop:Arrival time     │ Stop:Arrival delay │ Stop:Arrival cancelled │   Stop:Departure time    │ Stop:Departure delay │ Stop:Departure cancelled │ Stop:Platform change │ Stop:Planned platform │ Stop:Actual platform │\n",
      "│     int64      │     date     │   varchar    │     varchar     │        int64         │           boolean            │         boolean          │         int64         │    int64    │      varchar      │         varchar         │ timestamp with time zone │       int64        │        boolean         │ timestamp with time zone │        int64         │         boolean          │       boolean        │        varchar        │       varchar        │\n",
      "├────────────────┼──────────────┼──────────────┼─────────────────┼──────────────────────┼──────────────────────────────┼──────────────────────────┼───────────────────────┼─────────────┼───────────────────┼─────────────────────────┼──────────────────────────┼────────────────────┼────────────────────────┼──────────────────────────┼──────────────────────┼──────────────────────────┼──────────────────────┼───────────────────────┼──────────────────────┤\n",
      "│       12690865 │ 2024-01-01   │ Intercity    │ NS              │                 1410 │ false                        │ false                    │                     2 │   114307592 │ RTD               │ Rotterdam Centraal      │ NULL                     │               NULL │ NULL                   │ 2024-01-01 02:00:00+01   │                    0 │ false                    │ false                │ 9                     │ 9                    │\n",
      "│       12690865 │ 2024-01-01   │ Intercity    │ NS              │                 1410 │ false                        │ false                    │                     0 │   114307595 │ LEDN              │ Leiden Centraal         │ 2024-01-01 02:35:00+01   │                  0 │ false                  │ 2024-01-01 02:40:00+01   │                    0 │ false                    │ true                 │ 5b                    │ 8b                   │\n",
      "│       12690865 │ 2024-01-01   │ Intercity    │ NS              │                 1410 │ false                        │ false                    │                     0 │   114307594 │ GV                │ Den Haag HS             │ 2024-01-01 02:21:00+01   │                  0 │ false                  │ 2024-01-01 02:22:00+01   │                    0 │ false                    │ false                │ 6                     │ 6                    │\n",
      "│       12690865 │ 2024-01-01   │ Intercity    │ NS              │                 1410 │ false                        │ false                    │                     0 │   114307596 │ SHL               │ Schiphol Airport        │ 2024-01-01 03:00:00+01   │                  0 │ false                  │ 2024-01-01 03:03:00+01   │                    0 │ false                    │ false                │ 3                     │ 3                    │\n",
      "│       12690865 │ 2024-01-01   │ Intercity    │ NS              │                 1410 │ false                        │ false                    │                     0 │   114307599 │ ASB               │ Amsterdam Bijlmer ArenA │ 2024-01-01 03:31:00+01   │                  2 │ false                  │ 2024-01-01 03:31:00+01   │                    2 │ false                    │ false                │ 8                     │ 8                    │\n",
      "│       12690865 │ 2024-01-01   │ Intercity    │ NS              │                 1410 │ false                        │ false                    │                     0 │   114307593 │ DT                │ Delft                   │ 2024-01-01 02:13:00+01   │                  0 │ false                  │ 2024-01-01 02:13:00+01   │                    0 │ false                    │ false                │ 1                     │ 1                    │\n",
      "│       12690865 │ 2024-01-01   │ Intercity    │ NS              │                 1410 │ false                        │ false                    │                     0 │   114307600 │ UT                │ Utrecht Centraal        │ 2024-01-01 03:50:00+01   │                  0 │ false                  │ NULL                     │                 NULL │ NULL                     │ false                │ 15                    │ 15                   │\n",
      "│       12690865 │ 2024-01-01   │ Intercity    │ NS              │                 1410 │ false                        │ false                    │                     0 │   114307597 │ ASS               │ Amsterdam Sloterdijk    │ 2024-01-01 03:12:00+01   │                  0 │ false                  │ 2024-01-01 03:12:00+01   │                    0 │ false                    │ false                │ 12                    │ 12                   │\n",
      "│       12690865 │ 2024-01-01   │ Intercity    │ NS              │                 1410 │ false                        │ false                    │                     0 │   114307598 │ ASD               │ Amsterdam Centraal      │ 2024-01-01 03:18:00+01   │                  1 │ false                  │ 2024-01-01 03:20:00+01   │                    2 │ false                    │ false                │ 4                     │ 4                    │\n",
      "│       12690866 │ 2024-01-01   │ Nightjet     │ NS Int          │                  420 │ false                        │ false                    │                     6 │   114307601 │ NURNB             │ Nürnberg Hbf            │ NULL                     │               NULL │ NULL                   │ 2024-01-01 02:01:00+01   │                    0 │ false                    │ false                │ NULL                  │ NULL                 │\n",
      "├────────────────┴──────────────┴──────────────┴─────────────────┴──────────────────────┴──────────────────────────────┴──────────────────────────┴───────────────────────┴─────────────┴───────────────────┴─────────────────────────┴──────────────────────────┴────────────────────┴────────────────────────┴──────────────────────────┴──────────────────────┴──────────────────────────┴──────────────────────┴───────────────────────┴──────────────────────┤\n",
      "│ 10 rows                                                                                                                                                                                                                                                                                                                                                                                                                                              20 columns │\n",
      "└─────────────────────────────────────────────────────────────────────────────────────────────────────────────────────────────────────────────────────────────────────────────────────────────────────────────────────────────────────────────────────────────────────────────────────────────────────────────────────────────────────────────────────────────────────────────────────────────────────────────────────────────────────────────────────────────────┘\n",
      "\n"
     ]
    }
   ],
   "source": [
    "# last 10 rows\n",
    "duckdb.sql(\"\"\"\n",
    "SELECT *\n",
    "FROM \"data/services-2024.csv\"\n",
    "ORDER BY \"Service:Date\"\n",
    "LIMIT 10\n",
    "\"\"\").show()"
   ]
  },
  {
   "cell_type": "code",
   "execution_count": 4,
   "id": "1b2f1cc0-6ec9-4bf9-ba23-d5e624906ba6",
   "metadata": {},
   "outputs": [
    {
     "data": {
      "application/vnd.jupyter.widget-view+json": {
       "model_id": "986d4b0179424354b33ae1909c13f2b6",
       "version_major": 2,
       "version_minor": 0
      },
      "text/plain": [
       "FloatProgress(value=0.0, layout=Layout(width='auto'), style=ProgressStyle(bar_color='black'))"
      ]
     },
     "metadata": {},
     "output_type": "display_data"
    },
    {
     "data": {
      "text/plain": [
       "┌──────────────┐\n",
       "│ count_star() │\n",
       "│    int64     │\n",
       "├──────────────┤\n",
       "│      6153743 │\n",
       "└──────────────┘"
      ]
     },
     "execution_count": 4,
     "metadata": {},
     "output_type": "execute_result"
    }
   ],
   "source": [
    "# total number of late trains\n",
    "duckdb.sql(\"\"\"\n",
    "SELECT COUNT(*)\n",
    "FROM \"data/services-2024.csv\"\n",
    "WHERE \"Stop:Arrival delay\" > 0\n",
    "\"\"\")"
   ]
  },
  {
   "cell_type": "markdown",
   "id": "c8f96f56-502a-4937-9c42-82c2430fdda8",
   "metadata": {},
   "source": [
    "Queries like above are transient (in-memory). They can temporarily spill data to disk to process larger-than-memory datasets, but don't save results. In particular, each query needs to parse CSV file.\n",
    "\n",
    "To make results persistent, we can create `.db` (or `.duckdb`) file, similarly to SQLite. This is useful for a few reasons:\n",
    "- you want to save work and go home\n",
    "- for storing intermediate computation results for longer workflows\n",
    "- avoiding reading and parsing files, or downloading remote data\n",
    "\n",
    "Such file holds regular tables, which can be created from other data sources."
   ]
  },
  {
   "cell_type": "code",
   "execution_count": 5,
   "id": "8b1e1a59-5e34-42b4-9c0f-2f06d2acc7f6",
   "metadata": {},
   "outputs": [
    {
     "data": {
      "text/plain": [
       "<_duckdb.DuckDBPyConnection at 0x7e3f5805ddb0>"
      ]
     },
     "execution_count": 5,
     "metadata": {},
     "output_type": "execute_result"
    }
   ],
   "source": [
    "db = duckdb.connect(\"data/duckdb_trains.db\")\n",
    "db"
   ]
  },
  {
   "cell_type": "markdown",
   "id": "e951e875-0583-4dd3-be13-b3c1ee3bba33",
   "metadata": {},
   "source": [
    "If you call methods on `db` object, they will be run on the database. If you use `duckdb` module, the default in-memory session will be used instead.\n",
    "\n",
    "Let's create table from CSV and compare sizes with on-disk file."
   ]
  },
  {
   "cell_type": "code",
   "execution_count": 6,
   "id": "6578cd4a-d703-45e0-a14a-113f06ebface",
   "metadata": {},
   "outputs": [
    {
     "name": "stdout",
     "output_type": "stream",
     "text": [
      "CSV size: 3162 MB\n",
      "DuckDB size: 449 MB\n"
     ]
    }
   ],
   "source": [
    "import os\n",
    "\n",
    "db.sql(\"\"\"\n",
    "CREATE TABLE IF NOT EXISTS services AS\n",
    "FROM \"data/services-2024.csv\"\n",
    "\"\"\")\n",
    "\n",
    "csv_size_mb = os.path.getsize(\"data/services-2024.csv\") // (1024 * 1024)\n",
    "duckdb_size_mb = os.path.getsize(\"data/duckdb_trains.db\") // (1024 * 1024)\n",
    "\n",
    "print(f\"CSV size: {csv_size_mb} MB\")\n",
    "print(f\"DuckDB size: {duckdb_size_mb} MB\")"
   ]
  },
  {
   "cell_type": "markdown",
   "id": "0384fabb-1a73-4bde-be84-de2811155402",
   "metadata": {},
   "source": [
    "DuckDB uses many [\"friendly SQL\"](https://duckdb.org/docs/stable/sql/dialect/friendly_sql.html) extensions, which make SQL queries easier to write. They also offer many built-in features and functions. Some of them are DuckDB-exclusive, while others (e.g. PIVOT, UNPIVOT) are commonly adopted by many SQL databases.\n",
    "\n",
    "Above, we use [FROM-first syntax](https://duckdb.org/docs/stable/sql/query_syntax/from.html#from-first-syntax), which allows omitting `SELECT *`. Without it, the query would be `AS SELECT * FROM ...`.\n",
    "\n",
    "It also allows switching order of SELECT and FROM. Many people find this more readable. Let's see this in action."
   ]
  },
  {
   "cell_type": "code",
   "execution_count": 7,
   "id": "6b3e7ce8-4c15-41af-a456-2042d868c833",
   "metadata": {},
   "outputs": [
    {
     "data": {
      "text/plain": [
       "┌──────────────┐\n",
       "│ count_star() │\n",
       "│    int64     │\n",
       "├──────────────┤\n",
       "│     21857914 │\n",
       "└──────────────┘"
      ]
     },
     "execution_count": 7,
     "metadata": {},
     "output_type": "execute_result"
    }
   ],
   "source": [
    "db.sql(\"FROM services SELECT COUNT(*)\")"
   ]
  },
  {
   "cell_type": "code",
   "execution_count": 8,
   "id": "148869d2",
   "metadata": {},
   "outputs": [
    {
     "data": {
      "text/plain": [
       "┌──────────────┐\n",
       "│ count_star() │\n",
       "│    int64     │\n",
       "├──────────────┤\n",
       "│     21857914 │\n",
       "└──────────────┘"
      ]
     },
     "execution_count": 8,
     "metadata": {},
     "output_type": "execute_result"
    }
   ],
   "source": [
    "db.sql(\"SELECT COUNT(*) FROM services\")"
   ]
  },
  {
   "cell_type": "markdown",
   "id": "bc4ae854-b8d5-44f2-8515-36d960a21567",
   "metadata": {},
   "source": [
    "Another friendly SQL extension is [DESCRIBE](https://duckdb.org/docs/stable/guides/meta/describe.html), which provides a summary of table columns, data types, and their basic features. It's very useful to verify the data after loading CSV or other unreliable formats. It even allows skipping SELECT and FROM altogether."
   ]
  },
  {
   "cell_type": "code",
   "execution_count": 9,
   "id": "897ffe42-3fb6-46c7-9c4a-075d3798abbd",
   "metadata": {
    "scrolled": true
   },
   "outputs": [
    {
     "data": {
      "text/plain": [
       "┌──────────────────────────────┬──────────────────────────┬─────────┬─────────┬─────────┬─────────┐\n",
       "│         column_name          │       column_type        │  null   │   key   │ default │  extra  │\n",
       "│           varchar            │         varchar          │ varchar │ varchar │ varchar │ varchar │\n",
       "├──────────────────────────────┼──────────────────────────┼─────────┼─────────┼─────────┼─────────┤\n",
       "│ Service:RDT-ID               │ BIGINT                   │ YES     │ NULL    │ NULL    │ NULL    │\n",
       "│ Service:Date                 │ DATE                     │ YES     │ NULL    │ NULL    │ NULL    │\n",
       "│ Service:Type                 │ VARCHAR                  │ YES     │ NULL    │ NULL    │ NULL    │\n",
       "│ Service:Company              │ VARCHAR                  │ YES     │ NULL    │ NULL    │ NULL    │\n",
       "│ Service:Train number         │ BIGINT                   │ YES     │ NULL    │ NULL    │ NULL    │\n",
       "│ Service:Completely cancelled │ BOOLEAN                  │ YES     │ NULL    │ NULL    │ NULL    │\n",
       "│ Service:Partly cancelled     │ BOOLEAN                  │ YES     │ NULL    │ NULL    │ NULL    │\n",
       "│ Service:Maximum delay        │ BIGINT                   │ YES     │ NULL    │ NULL    │ NULL    │\n",
       "│ Stop:RDT-ID                  │ BIGINT                   │ YES     │ NULL    │ NULL    │ NULL    │\n",
       "│ Stop:Station code            │ VARCHAR                  │ YES     │ NULL    │ NULL    │ NULL    │\n",
       "│ Stop:Station name            │ VARCHAR                  │ YES     │ NULL    │ NULL    │ NULL    │\n",
       "│ Stop:Arrival time            │ TIMESTAMP WITH TIME ZONE │ YES     │ NULL    │ NULL    │ NULL    │\n",
       "│ Stop:Arrival delay           │ BIGINT                   │ YES     │ NULL    │ NULL    │ NULL    │\n",
       "│ Stop:Arrival cancelled       │ BOOLEAN                  │ YES     │ NULL    │ NULL    │ NULL    │\n",
       "│ Stop:Departure time          │ TIMESTAMP WITH TIME ZONE │ YES     │ NULL    │ NULL    │ NULL    │\n",
       "│ Stop:Departure delay         │ BIGINT                   │ YES     │ NULL    │ NULL    │ NULL    │\n",
       "│ Stop:Departure cancelled     │ BOOLEAN                  │ YES     │ NULL    │ NULL    │ NULL    │\n",
       "│ Stop:Platform change         │ BOOLEAN                  │ YES     │ NULL    │ NULL    │ NULL    │\n",
       "│ Stop:Planned platform        │ VARCHAR                  │ YES     │ NULL    │ NULL    │ NULL    │\n",
       "│ Stop:Actual platform         │ VARCHAR                  │ YES     │ NULL    │ NULL    │ NULL    │\n",
       "├──────────────────────────────┴──────────────────────────┴─────────┴─────────┴─────────┴─────────┤\n",
       "│ 20 rows                                                                               6 columns │\n",
       "└─────────────────────────────────────────────────────────────────────────────────────────────────┘"
      ]
     },
     "execution_count": 9,
     "metadata": {},
     "output_type": "execute_result"
    }
   ],
   "source": [
    "db.sql(\"DESCRIBE services\")"
   ]
  },
  {
   "cell_type": "markdown",
   "id": "cdce677dd54559d1",
   "metadata": {},
   "source": [
    "Let's see a few examples of queries on this table:"
   ]
  },
  {
   "cell_type": "code",
   "execution_count": 10,
   "id": "9606e812",
   "metadata": {},
   "outputs": [
    {
     "data": {
      "text/plain": [
       "┌──────────────────────────────────┐\n",
       "│ count(DISTINCT \"Service:RDT-ID\") │\n",
       "│              int64               │\n",
       "├──────────────────────────────────┤\n",
       "│                          2395636 │\n",
       "└──────────────────────────────────┘"
      ]
     },
     "execution_count": 10,
     "metadata": {},
     "output_type": "execute_result"
    }
   ],
   "source": [
    "# number of all the services\n",
    "db.sql(\"\"\"\n",
    "SELECT COUNT(DISTINCT \"Service:RDT-ID\") \n",
    "FROM services\n",
    "\"\"\")"
   ]
  },
  {
   "cell_type": "code",
   "execution_count": 11,
   "id": "a447df3f",
   "metadata": {},
   "outputs": [
    {
     "data": {
      "text/plain": [
       "┌────────────────┬───────────┐\n",
       "│ Service:RDT-ID │ num_stops │\n",
       "│     int64      │   int64   │\n",
       "├────────────────┼───────────┤\n",
       "│       13137270 │        40 │\n",
       "│       13136903 │        40 │\n",
       "│       13134703 │        40 │\n",
       "│       13135724 │        40 │\n",
       "│       13134909 │        40 │\n",
       "│       13135311 │        40 │\n",
       "│       13135987 │        40 │\n",
       "│       13136166 │        40 │\n",
       "│       13135118 │        40 │\n",
       "│       13137078 │        40 │\n",
       "│           ·    │         · │\n",
       "│           ·    │         · │\n",
       "│           ·    │         · │\n",
       "│       13575417 │        23 │\n",
       "│       14844740 │        23 │\n",
       "│       13131800 │        23 │\n",
       "│       13043278 │        23 │\n",
       "│       14579614 │        23 │\n",
       "│       13895003 │        23 │\n",
       "│       14240851 │        23 │\n",
       "│       13895679 │        23 │\n",
       "│       14876293 │        23 │\n",
       "│       12824413 │        23 │\n",
       "├────────────────┴───────────┤\n",
       "│ ? rows           2 columns │\n",
       "│ (>9999 rows, 20 shown)     │\n",
       "└────────────────────────────┘"
      ]
     },
     "execution_count": 11,
     "metadata": {},
     "output_type": "execute_result"
    }
   ],
   "source": [
    "# number of stops per service\n",
    "db.sql(\"\"\"\n",
    "SELECT \"Service:RDT-ID\",\n",
    "       COUNT(*) AS num_stops\n",
    "FROM services\n",
    "GROUP BY \"Service:RDT-ID\"\n",
    "ORDER BY num_stops DESC\n",
    "\"\"\")"
   ]
  },
  {
   "cell_type": "code",
   "execution_count": 12,
   "id": "b1f85fbb",
   "metadata": {},
   "outputs": [
    {
     "data": {
      "text/plain": [
       "┌───────────────────┬───────────────────────┐\n",
       "│   Service:Type    │   avg_arrival_delay   │\n",
       "│      varchar      │        double         │\n",
       "├───────────────────┼───────────────────────┤\n",
       "│ European Sleeper  │    13.104823151125402 │\n",
       "│ Stoomtrein        │                  12.0 │\n",
       "│ Nightjet          │     9.099788781976063 │\n",
       "│ Eurostar          │     7.788637531155463 │\n",
       "│ ICE International │     6.904159898297903 │\n",
       "│ Int. Trein        │     4.480769230769231 │\n",
       "│ Nachttrein        │     3.885049365303244 │\n",
       "│ Intercity direct  │     3.252410781587087 │\n",
       "│ Extra trein       │    2.9482057627717873 │\n",
       "│ Eurocity Direct   │    2.2482360487491984 │\n",
       "│ Sneltrein         │    1.7591278687918004 │\n",
       "│ EuroCity          │    1.4974285126517177 │\n",
       "│ Intercity         │    1.2479878711782384 │\n",
       "│ Speciale Trein    │    0.9782588323493581 │\n",
       "│ Sprinter          │    0.8619189684480987 │\n",
       "│ Stoptrein         │    0.7848326562950719 │\n",
       "│ Stopbus ipv trein │ 0.0005534048555484629 │\n",
       "│ Snelbus ipv trein │ 4.915937469275391e-05 │\n",
       "│ Taxibus ipv trein │                   0.0 │\n",
       "│ Bus               │                   0.0 │\n",
       "│ Belbus            │                   0.0 │\n",
       "│ Metro ipv trein   │                   0.0 │\n",
       "├───────────────────┴───────────────────────┤\n",
       "│ 22 rows                         2 columns │\n",
       "└───────────────────────────────────────────┘"
      ]
     },
     "execution_count": 12,
     "metadata": {},
     "output_type": "execute_result"
    }
   ],
   "source": [
    "# average arrival delay per service type\n",
    "db.sql(\"\"\"\n",
    "SELECT \"Service:Type\",\n",
    "       AVG(\"Stop:Arrival delay\") AS avg_arrival_delay\n",
    "FROM services\n",
    "WHERE \"Stop:Arrival delay\" IS NOT NULL\n",
    "GROUP BY \"Service:Type\"\n",
    "ORDER BY avg_arrival_delay DESC\n",
    "\"\"\")"
   ]
  },
  {
   "cell_type": "markdown",
   "id": "0c9ce6df-2e58-48d9-b16e-fff5cf6cc34a",
   "metadata": {},
   "source": [
    "**Exercises**\n",
    "\n",
    "1. Which 10 stations were busiest, i.e. got the most train arrivals or departures?\n",
    "2. Load file `data/disruptions-2023.csv` as `disruptions` table. Describe it.\n",
    "3. What were the 5 most frequent disruption causes in 2023, and how many times did they occur?\n",
    "4. Select the row with the longest disruption. What was the cause? How long was it in days?"
   ]
  },
  {
   "cell_type": "markdown",
   "id": "74596b03",
   "metadata": {},
   "source": [
    "### Busiest station"
   ]
  },
  {
   "cell_type": "code",
   "execution_count": 13,
   "id": "706864cf-7c09-4893-a3cf-336ad88cba65",
   "metadata": {
    "scrolled": true
   },
   "outputs": [
    {
     "data": {
      "text/plain": [
       "┌───────────────────┬──────────────────────┬─────────────────────────────────────┐\n",
       "│ Stop:Station code │  Stop:Station name   │ Stop: Arrivals and departures count │\n",
       "│      varchar      │       varchar        │                int64                │\n",
       "├───────────────────┼──────────────────────┼─────────────────────────────────────┤\n",
       "│ UT                │ Utrecht Centraal     │                              732894 │\n",
       "│ ASS               │ Amsterdam Sloterdijk │                              567224 │\n",
       "│ ASD               │ Amsterdam Centraal   │                              535870 │\n",
       "│ SHL               │ Schiphol Airport     │                              493728 │\n",
       "│ RTD               │ Rotterdam Centraal   │                              434715 │\n",
       "│ LEDN              │ Leiden Centraal      │                              384459 │\n",
       "│ GD                │ Gouda                │                              369929 │\n",
       "│ AMF               │ Amersfoort Centraal  │                              337715 │\n",
       "│ ZL                │ Zwolle               │                              334421 │\n",
       "│ AH                │ Arnhem Centraal      │                              331723 │\n",
       "├───────────────────┴──────────────────────┴─────────────────────────────────────┤\n",
       "│ 10 rows                                                              3 columns │\n",
       "└────────────────────────────────────────────────────────────────────────────────┘"
      ]
     },
     "execution_count": 13,
     "metadata": {},
     "output_type": "execute_result"
    }
   ],
   "source": [
    "db.sql(\n",
    "    \"\"\"\n",
    "SELECT \n",
    "    s.\"Stop:Station code\",\n",
    "    s.\"Stop:Station name\",\n",
    "    COUNT(s.\"Stop:Arrival time\")+ COUNT(s.\"Stop:Departure time\") as \"Stop: Arrivals and departures count\",\n",
    "FROM services s\n",
    "GROUP BY s.\"Stop:Station code\",  s.\"Stop:Station name\"\n",
    "ORDER BY \"Stop: Arrivals and departures count\" DESC\n",
    "LIMIT 10\n",
    "\"\"\"\n",
    ")"
   ]
  },
  {
   "cell_type": "markdown",
   "id": "d2d55576",
   "metadata": {},
   "source": [
    "### Disruptions"
   ]
  },
  {
   "cell_type": "code",
   "execution_count": 14,
   "id": "0ae66125",
   "metadata": {},
   "outputs": [
    {
     "data": {
      "text/plain": [
       "┌──────────────┐\n",
       "│ count_star() │\n",
       "│    int64     │\n",
       "├──────────────┤\n",
       "│         5964 │\n",
       "└──────────────┘"
      ]
     },
     "execution_count": 14,
     "metadata": {},
     "output_type": "execute_result"
    }
   ],
   "source": [
    "db.sql(\"\"\"\n",
    "CREATE TABLE IF NOT EXISTS disruptions AS\n",
    "FROM \"data/disruptions-2024.csv\"\n",
    "\"\"\")\n",
    "\n",
    "db.sql(\"\"\"\n",
    "    SELECT COUNT(*) FROM disruptions \n",
    "\"\"\")\n"
   ]
  },
  {
   "cell_type": "code",
   "execution_count": 15,
   "id": "f0bc5bdf",
   "metadata": {},
   "outputs": [
    {
     "data": {
      "text/plain": [
       "┌──────────────────────┬─────────────┬─────────┬─────────┬─────────┬─────────┐\n",
       "│     column_name      │ column_type │  null   │   key   │ default │  extra  │\n",
       "│       varchar        │   varchar   │ varchar │ varchar │ varchar │ varchar │\n",
       "├──────────────────────┼─────────────┼─────────┼─────────┼─────────┼─────────┤\n",
       "│ rdt_id               │ BIGINT      │ YES     │ NULL    │ NULL    │ NULL    │\n",
       "│ ns_lines             │ VARCHAR     │ YES     │ NULL    │ NULL    │ NULL    │\n",
       "│ rdt_lines            │ VARCHAR     │ YES     │ NULL    │ NULL    │ NULL    │\n",
       "│ rdt_lines_id         │ VARCHAR     │ YES     │ NULL    │ NULL    │ NULL    │\n",
       "│ rdt_station_names    │ VARCHAR     │ YES     │ NULL    │ NULL    │ NULL    │\n",
       "│ rdt_station_codes    │ VARCHAR     │ YES     │ NULL    │ NULL    │ NULL    │\n",
       "│ cause_nl             │ VARCHAR     │ YES     │ NULL    │ NULL    │ NULL    │\n",
       "│ cause_en             │ VARCHAR     │ YES     │ NULL    │ NULL    │ NULL    │\n",
       "│ statistical_cause_nl │ VARCHAR     │ YES     │ NULL    │ NULL    │ NULL    │\n",
       "│ statistical_cause_en │ VARCHAR     │ YES     │ NULL    │ NULL    │ NULL    │\n",
       "│ cause_group          │ VARCHAR     │ YES     │ NULL    │ NULL    │ NULL    │\n",
       "│ start_time           │ TIMESTAMP   │ YES     │ NULL    │ NULL    │ NULL    │\n",
       "│ end_time             │ TIMESTAMP   │ YES     │ NULL    │ NULL    │ NULL    │\n",
       "│ duration_minutes     │ BIGINT      │ YES     │ NULL    │ NULL    │ NULL    │\n",
       "├──────────────────────┴─────────────┴─────────┴─────────┴─────────┴─────────┤\n",
       "│ 14 rows                                                          6 columns │\n",
       "└────────────────────────────────────────────────────────────────────────────┘"
      ]
     },
     "execution_count": 15,
     "metadata": {},
     "output_type": "execute_result"
    }
   ],
   "source": [
    "db.sql(\"DESCRIBE disruptions\")"
   ]
  },
  {
   "cell_type": "markdown",
   "id": "12991efb",
   "metadata": {},
   "source": [
    "### Disruptions Causes\n"
   ]
  },
  {
   "cell_type": "code",
   "execution_count": 16,
   "id": "8375815c",
   "metadata": {},
   "outputs": [
    {
     "data": {
      "text/plain": [
       "┌─────────────────────────┬───────┐\n",
       "│  statistical_cause_en   │ count │\n",
       "│         varchar         │ int64 │\n",
       "├─────────────────────────┼───────┤\n",
       "│ broken down train       │  2062 │\n",
       "│ collision               │   515 │\n",
       "│ signal failure          │   452 │\n",
       "│ points failure          │   286 │\n",
       "│ technical investigation │   246 │\n",
       "└─────────────────────────┴───────┘"
      ]
     },
     "execution_count": 16,
     "metadata": {},
     "output_type": "execute_result"
    }
   ],
   "source": [
    "db.sql(\"\"\"\n",
    "    SELECT \n",
    "       d.statistical_cause_en,\n",
    "       COUNT(d.statistical_cause_en) as count\n",
    "    FROM disruptions d\n",
    "    GROUP BY d.statistical_cause_en\n",
    "    ORDER BY count DESC\n",
    "    LIMIT 5\n",
    "\"\"\")"
   ]
  },
  {
   "cell_type": "markdown",
   "id": "0a181d4c",
   "metadata": {},
   "source": [
    "### Longest disrutpion cause"
   ]
  },
  {
   "cell_type": "code",
   "execution_count": 17,
   "id": "8ea6fcc0",
   "metadata": {},
   "outputs": [
    {
     "data": {
      "text/plain": [
       "┌──────────────────┬─────────────────────────────────┬────────┐\n",
       "│     duration     │      statistical_cause_en       │ rdt_id │\n",
       "│     interval     │             varchar             │ int64  │\n",
       "├──────────────────┼─────────────────────────────────┼────────┤\n",
       "│ 21 days 14:00:22 │ problems with the rolling stock │  56860 │\n",
       "└──────────────────┴─────────────────────────────────┴────────┘"
      ]
     },
     "execution_count": 17,
     "metadata": {},
     "output_type": "execute_result"
    }
   ],
   "source": [
    "db.sql(\"\"\"\n",
    "    SELECT \n",
    "       d.end_time - d.start_time as duration,\n",
    "       d.statistical_cause_en,\n",
    "       d.rdt_id\n",
    "    FROM disruptions d \n",
    "    ORDER BY duration DESC\n",
    "    LIMIT 1\n",
    "\"\"\")"
   ]
  },
  {
   "cell_type": "markdown",
   "id": "96451233-1aaa-4dba-83b1-1094a414dd7d",
   "metadata": {},
   "source": [
    "## Connecting to databases"
   ]
  },
  {
   "cell_type": "markdown",
   "id": "aad30a8a-466b-43c6-b378-359aee8a0756",
   "metadata": {},
   "source": [
    "DuckDB can connect to various data sources, e.g. Excel, databases, cloud files, data lakehouses, and others. It uses a system of [extensions](https://duckdb.org/docs/stable/extensions/overview), which are loaded explicitly. This avoids bloating the base package and is very flexible. We will now install and load the Postgres extension, and query the database.\n",
    "\n",
    "Make sure that PostgreSQL is up and running in Docker Compose."
   ]
  },
  {
   "cell_type": "code",
   "execution_count": 18,
   "id": "65377fb6-53cd-43fe-96da-69cb4dfab533",
   "metadata": {},
   "outputs": [],
   "source": [
    "# install and import extension\n",
    "db.sql(\"\"\"INSTALL postgres; LOAD postgres;\"\"\")\n",
    "\n",
    "# NEVER write password like this explicitly in real code!\n",
    "conn_string = \"host=localhost user=postgres password=postgres dbname=postgres\"\n",
    "\n",
    "# note that we create the alias for this Postgres database here\n",
    "# this also needs to be in single quotes\n",
    "db.sql(f\"\"\"\n",
    "ATTACH IF NOT EXISTS '{conn_string}' AS postgres_db_read (TYPE postgres, READ_ONLY);\n",
    "\"\"\")"
   ]
  },
  {
   "cell_type": "code",
   "execution_count": 19,
   "id": "2be0c6a5-1a0e-43f8-9720-137d1dbcb140",
   "metadata": {
    "scrolled": true
   },
   "outputs": [
    {
     "data": {
      "text/plain": [
       "┌──────────────────┬─────────┬─────────────┬──────────────────────────────────────────────────────────────────────────────────────────────────────────────────────────────────────────────────────────────────────────────────────────────────────────────────────────────────────────────────────────────────────────────────────────────────────────────────────────────────────────────────────────────────────────────────────────────────────────────────────────────────────────────────────────────────────┬───────────────────────────────────────────────────────────────────────────────────────────────────────────────────────────────────────────────────────────────────────────────────────────────────────────────┬───────────┐\n",
       "│     database     │ schema  │    name     │                                                                                                                                                                                                                             column_names                                                                                                                                                                                                                             │                                                                                                 column_types                                                                                                  │ temporary │\n",
       "│     varchar      │ varchar │   varchar   │                                                                                                                                                                                                                              varchar[]                                                                                                                                                                                                                               │                                                                                                   varchar[]                                                                                                   │  boolean  │\n",
       "├──────────────────┼─────────┼─────────────┼──────────────────────────────────────────────────────────────────────────────────────────────────────────────────────────────────────────────────────────────────────────────────────────────────────────────────────────────────────────────────────────────────────────────────────────────────────────────────────────────────────────────────────────────────────────────────────────────────────────────────────────────────────────────────────────────────────┼───────────────────────────────────────────────────────────────────────────────────────────────────────────────────────────────────────────────────────────────────────────────────────────────────────────────┼───────────┤\n",
       "│ duckdb_trains    │ main    │ disruptions │ [rdt_id, ns_lines, rdt_lines, rdt_lines_id, rdt_station_names, rdt_station_codes, cause_nl, cause_en, statistical_cause_nl, statistical_cause_en, cause_group, start_time, end_time, duration_minutes]                                                                                                                                                                                                                                                               │ [BIGINT, VARCHAR, VARCHAR, VARCHAR, VARCHAR, VARCHAR, VARCHAR, VARCHAR, VARCHAR, VARCHAR, VARCHAR, TIMESTAMP, TIMESTAMP, BIGINT]                                                                              │ false     │\n",
       "│ duckdb_trains    │ main    │ services    │ ['Service:RDT-ID', 'Service:Date', 'Service:Type', 'Service:Company', 'Service:Train number', 'Service:Completely cancelled', 'Service:Partly cancelled', 'Service:Maximum delay', 'Stop:RDT-ID', 'Stop:Station code', 'Stop:Station name', 'Stop:Arrival time', 'Stop:Arrival delay', 'Stop:Arrival cancelled', 'Stop:Departure time', 'Stop:Departure delay', 'Stop:Departure cancelled', 'Stop:Platform change', 'Stop:Planned platform', 'Stop:Actual platform'] │ [BIGINT, DATE, VARCHAR, VARCHAR, BIGINT, BOOLEAN, BOOLEAN, BIGINT, BIGINT, VARCHAR, VARCHAR, TIMESTAMP WITH TIME ZONE, BIGINT, BOOLEAN, TIMESTAMP WITH TIME ZONE, BIGINT, BOOLEAN, BOOLEAN, VARCHAR, VARCHAR] │ false     │\n",
       "│ postgres_db_read │ public  │ disruptions │ [rdt_id, ns_lines, rdt_lines, rdt_lines_id, rdt_station_names, rdt_station_codes, cause_nl, cause_en, statistical_cause_nl, statistical_cause_en, cause_group, start_time, end_time, duration_minutes, filename]                                                                                                                                                                                                                                                     │ [BIGINT, VARCHAR, VARCHAR, VARCHAR, VARCHAR, VARCHAR, VARCHAR, VARCHAR, VARCHAR, VARCHAR, VARCHAR, TIMESTAMP, TIMESTAMP, BIGINT, VARCHAR]                                                                     │ false     │\n",
       "│ postgres_db_read │ public  │ services    │ ['Service:RDT-ID', 'Service:Date', 'Service:Type', 'Service:Company', 'Service:Train number', 'Service:Completely cancelled', 'Service:Partly cancelled', 'Service:Maximum delay', 'Stop:RDT-ID', 'Stop:Station code', 'Stop:Station name', 'Stop:Arrival time', 'Stop:Arrival delay', 'Stop:Arrival cancelled', 'Stop:Departure time', 'Stop:Departure delay', 'Stop:Departure cancelled', 'Stop:Platform change', 'Stop:Planned platform', 'Stop:Actual platform'] │ [INTEGER, DATE, VARCHAR, VARCHAR, INTEGER, BOOLEAN, BOOLEAN, INTEGER, INTEGER, VARCHAR, VARCHAR, TIMESTAMP, INTEGER, BOOLEAN, TIMESTAMP, INTEGER, BOOLEAN, BOOLEAN, VARCHAR, VARCHAR]                         │ false     │\n",
       "└──────────────────┴─────────┴─────────────┴──────────────────────────────────────────────────────────────────────────────────────────────────────────────────────────────────────────────────────────────────────────────────────────────────────────────────────────────────────────────────────────────────────────────────────────────────────────────────────────────────────────────────────────────────────────────────────────────────────────────────────────────────────────────────────────────────────┴───────────────────────────────────────────────────────────────────────────────────────────────────────────────────────────────────────────────────────────────────────────────────────────────────────────────┴───────────┘"
      ]
     },
     "execution_count": 19,
     "metadata": {},
     "output_type": "execute_result"
    }
   ],
   "source": [
    "# command to list all tables available\n",
    "db.sql(\"SHOW ALL TABLES\")"
   ]
  },
  {
   "cell_type": "markdown",
   "id": "55238326-00fd-4c2c-a2b3-0687bf8dff58",
   "metadata": {},
   "source": [
    "You can securely store connections information in [DuckDB secrets](https://duckdb.org/docs/stable/extensions/postgres.html#configuring-via-secrets). Here, we make a read-only connection, but DuckDB can also [write to Postgres](https://duckdb.org/docs/stable/extensions/postgres.html#writing-data-to-postgresql). This way you can e.g. insert Parquet data into Postgres, which is not supported natively.\n",
    "\n",
    "When a database is attached, the data is queried from it each time. It guarantees the newest data, but also results in networking overhead. You can [copy Postgres table](https://duckdb.org/docs/stable/extensions/postgres.html#usage) into DuckDB to avoid this, but you have stale data this way.\n",
    "\n",
    "We have two `services` tables now - to query the Postgres one, we prefix it with database alias. Compare querying Postgres and DuckDB tables."
   ]
  },
  {
   "cell_type": "code",
   "execution_count": 20,
   "id": "d92dddf4-9f84-4e8f-9a4d-de40ac863720",
   "metadata": {},
   "outputs": [
    {
     "data": {
      "application/vnd.jupyter.widget-view+json": {
       "model_id": "3aed212446b44bb5bc5d7911f86ab09b",
       "version_major": 2,
       "version_minor": 0
      },
      "text/plain": [
       "FloatProgress(value=0.0, layout=Layout(width='auto'), style=ProgressStyle(bar_color='black'))"
      ]
     },
     "metadata": {},
     "output_type": "display_data"
    },
    {
     "data": {
      "text/plain": [
       "┌──────────────┐\n",
       "│ count_star() │\n",
       "│    int64     │\n",
       "├──────────────┤\n",
       "│     21857914 │\n",
       "└──────────────┘"
      ]
     },
     "execution_count": 20,
     "metadata": {},
     "output_type": "execute_result"
    }
   ],
   "source": [
    "db.sql(\"\"\"\n",
    "SELECT COUNT(*)\n",
    "FROM postgres_db_read.services\n",
    "\"\"\")"
   ]
  },
  {
   "cell_type": "code",
   "execution_count": 21,
   "id": "db21a89b-aab2-41df-9515-1efb1d951a24",
   "metadata": {},
   "outputs": [
    {
     "data": {
      "text/plain": [
       "┌──────────────┐\n",
       "│ count_star() │\n",
       "│    int64     │\n",
       "├──────────────┤\n",
       "│     21857914 │\n",
       "└──────────────┘"
      ]
     },
     "execution_count": 21,
     "metadata": {},
     "output_type": "execute_result"
    }
   ],
   "source": [
    "db.sql(\"\"\"\n",
    "SELECT COUNT(*)\n",
    "FROM services\n",
    "\"\"\")"
   ]
  },
  {
   "cell_type": "markdown",
   "id": "febaae58-038c-49e4-b1ed-d21fd08221a3",
   "metadata": {},
   "source": [
    "You can run any queries this way, e.g. JOIN files and databases, insert and update data sources, and more. To remove a database, use DETACH command:"
   ]
  },
  {
   "cell_type": "code",
   "execution_count": 22,
   "id": "a6f4a2dc-278e-4e3d-8979-996eebba1e8d",
   "metadata": {},
   "outputs": [],
   "source": [
    "db.sql(\"DETACH postgres_db_read\")"
   ]
  },
  {
   "cell_type": "markdown",
   "id": "4db17c74-5822-43c9-bb8d-43c1e111f842",
   "metadata": {},
   "source": [
    "**Exercise**\n",
    "\n",
    "1. Download data about disruptions from 2022 ([Rijden de Treinen page](https://www.rijdendetreinen.nl/en/open-data/disruptions)). You can use either Python (e.g. [urllib](https://stackoverflow.com/a/19602990/9472066)) or wget.\n",
    "2. Create read-write connection to Postgres.\n",
    "3. Use [Postgres CREATE TABLE](https://duckdb.org/docs/stable/extensions/postgres.html#create-table) in DuckDB to insert both 2023 and 2024 disruptions data into Postgres database as `disruptions` table. See [documentation about reading multiple files](https://duckdb.org/docs/stable/data/multiple_files/overview.html).\n",
    "4. Query how many disruptions occurred in 2022 and 2023."
   ]
  },
  {
   "cell_type": "markdown",
   "id": "43f6c627",
   "metadata": {},
   "source": [
    "**Note that** I use 2023 and 2024 disruptions because of inconsistency in exercises :)"
   ]
  },
  {
   "cell_type": "code",
   "execution_count": 23,
   "id": "90b907e1",
   "metadata": {},
   "outputs": [],
   "source": [
    "db.sql(f\"\"\"\n",
    "ATTACH IF NOT EXISTS '{conn_string}' AS postgres_db_read_write (TYPE postgres, READ_WRITE);\n",
    "\"\"\")"
   ]
  },
  {
   "cell_type": "code",
   "execution_count": 24,
   "id": "d6d3d329-165b-4920-8f5a-ac1c0214855a",
   "metadata": {},
   "outputs": [
    {
     "data": {
      "text/plain": [
       "┌──────────────────────┬─────────────┬─────────┬─────────┬─────────┬─────────┐\n",
       "│     column_name      │ column_type │  null   │   key   │ default │  extra  │\n",
       "│       varchar        │   varchar   │ varchar │ varchar │ varchar │ varchar │\n",
       "├──────────────────────┼─────────────┼─────────┼─────────┼─────────┼─────────┤\n",
       "│ rdt_id               │ BIGINT      │ YES     │ NULL    │ NULL    │ NULL    │\n",
       "│ ns_lines             │ VARCHAR     │ YES     │ NULL    │ NULL    │ NULL    │\n",
       "│ rdt_lines            │ VARCHAR     │ YES     │ NULL    │ NULL    │ NULL    │\n",
       "│ rdt_lines_id         │ VARCHAR     │ YES     │ NULL    │ NULL    │ NULL    │\n",
       "│ rdt_station_names    │ VARCHAR     │ YES     │ NULL    │ NULL    │ NULL    │\n",
       "│ rdt_station_codes    │ VARCHAR     │ YES     │ NULL    │ NULL    │ NULL    │\n",
       "│ cause_nl             │ VARCHAR     │ YES     │ NULL    │ NULL    │ NULL    │\n",
       "│ cause_en             │ VARCHAR     │ YES     │ NULL    │ NULL    │ NULL    │\n",
       "│ statistical_cause_nl │ VARCHAR     │ YES     │ NULL    │ NULL    │ NULL    │\n",
       "│ statistical_cause_en │ VARCHAR     │ YES     │ NULL    │ NULL    │ NULL    │\n",
       "│ cause_group          │ VARCHAR     │ YES     │ NULL    │ NULL    │ NULL    │\n",
       "│ start_time           │ TIMESTAMP   │ YES     │ NULL    │ NULL    │ NULL    │\n",
       "│ end_time             │ TIMESTAMP   │ YES     │ NULL    │ NULL    │ NULL    │\n",
       "│ duration_minutes     │ BIGINT      │ YES     │ NULL    │ NULL    │ NULL    │\n",
       "│ filename             │ VARCHAR     │ YES     │ NULL    │ NULL    │ NULL    │\n",
       "├──────────────────────┴─────────────┴─────────┴─────────┴─────────┴─────────┤\n",
       "│ 15 rows                                                          6 columns │\n",
       "└────────────────────────────────────────────────────────────────────────────┘"
      ]
     },
     "execution_count": 24,
     "metadata": {},
     "output_type": "execute_result"
    }
   ],
   "source": [
    "db.sql(\"\"\"\n",
    "       CREATE TABLE IF NOT EXISTS postgres_db_read_write.disruptions AS\n",
    "       FROM read_csv(['data/disruptions-2023.csv', 'data/disruptions-2024.csv'], union_by_name = true, filename = true);\n",
    "\"\"\")\n",
    "\n",
    "db.sql(\"\"\"\n",
    "       DESCRIBE postgres_db_read_write.disruptions\n",
    "       \"\"\")"
   ]
  },
  {
   "cell_type": "code",
   "execution_count": 25,
   "id": "acfd267b",
   "metadata": {},
   "outputs": [
    {
     "data": {
      "text/plain": [
       "┌───────────────────┬───────────────────────────┐\n",
       "│ count(d.filename) │         filename          │\n",
       "│       int64       │          varchar          │\n",
       "├───────────────────┼───────────────────────────┤\n",
       "│              5168 │ data/disruptions-2023.csv │\n",
       "│              5964 │ data/disruptions-2024.csv │\n",
       "└───────────────────┴───────────────────────────┘"
      ]
     },
     "execution_count": 25,
     "metadata": {},
     "output_type": "execute_result"
    }
   ],
   "source": [
    "db.sql(\"\"\"\n",
    "       SELECT COUNT(d.filename), d.filename\n",
    "       FROM postgres_db_read_write.disruptions AS d\n",
    "       GROUP BY d.filename\n",
    "       \"\"\")\n"
   ]
  },
  {
   "cell_type": "markdown",
   "id": "67ea8a8e-99c9-478b-bf91-4d1cb6278ba3",
   "metadata": {},
   "source": [
    "## Writing data"
   ]
  },
  {
   "cell_type": "markdown",
   "id": "18694e7a-60f4-452a-80f1-02ef7128bb4e",
   "metadata": {},
   "source": [
    "DuckDB can not only insert data into databases, but also write regular files to disk, for example [JSON and JSON Lines](https://duckdb.org/docs/stable/data/json/writing_json) and [Parquet](https://duckdb.org/docs/stable/data/parquet/overview). It also makes it very convenient as a format conversion tool, e.g. as a first part in a data processing workflow.\n",
    "\n",
    "DuckDB is very fast at reading CSV, and [gets faster over time](https://duckdb.org/2024/06/26/benchmarks-over-time.html#csv-reader). However, its unique feature is [very robust and advanced CSV parsing](https://duckdb.org/2023/10/27/csv-sniffer.html), based on paper [\"Multiple hypothesis CSV parsing\" T. Döhmen et al.](https://hannes.muehleisen.org/publications/ssdbm2017-muehleisen-csvs.pdf), and in case of errors it has [verbose error informations](https://duckdb.org/docs/stable/data/csv/reading_faulty_csv_files), as well as option to omit faulty lines.\n",
    "\n",
    "Let's read the CSV file with 2024 train services and change it to TSV (tab-separated values) file. Exporting files also uses COPY command, with format-specific options ([documentation](https://duckdb.org/docs/stable/sql/statements/copy.html#csv-options))."
   ]
  },
  {
   "cell_type": "code",
   "execution_count": 26,
   "id": "1474ef5c-3615-48b4-95a6-7b84f5899c02",
   "metadata": {},
   "outputs": [
    {
     "data": {
      "application/vnd.jupyter.widget-view+json": {
       "model_id": "b4694111a015464482f9e3649dd077dc",
       "version_major": 2,
       "version_minor": 0
      },
      "text/plain": [
       "FloatProgress(value=0.0, layout=Layout(width='auto'), style=ProgressStyle(bar_color='black'))"
      ]
     },
     "metadata": {},
     "output_type": "display_data"
    },
    {
     "name": "stdout",
     "output_type": "stream",
     "text": [
      "Service:RDT-ID\tService:Date\tService:Type\tService:Company\tService:Train number\tService:Completely cancelled\tService:Partly cancelled\tService:Maximum delay\tStop:RDT-ID\tStop:Station code\tStop:Station name\tStop:Arrival time\tStop:Arrival delay\tStop:Arrival cancelled\tStop:Departure time\tStop:Departure delay\tStop:Departure cancelled\tStop:Platform change\tStop:Planned platform\tStop:Actual platform\n",
      "\n",
      "12690865\t2024-01-01\tIntercity\tNS\t1410\tfalse\tfalse\t2\t114307592\tRTD\tRotterdam Centraal\t\t\t\t2024-01-01 02:00:00+01\t0\tfalse\tfalse\t9\t9\n",
      "\n",
      "12690865\t2024-01-01\tIntercity\tNS\t1410\tfalse\tfalse\t0\t114307593\tDT\tDelft\t2024-01-01 02:13:00+01\t0\tfalse\t2024-01-01 02:13:00+01\t0\tfalse\tfalse\t1\t1\n",
      "\n",
      "12690865\t2024-01-01\tIntercity\tNS\t1410\tfalse\tfalse\t0\t114307594\tGV\tDen Haag HS\t2024-01-01 02:21:00+01\t0\tfalse\t2024-01-01 02:22:00+01\t0\tfalse\tfalse\t6\t6\n",
      "\n",
      "12690865\t2024-01-01\tIntercity\tNS\t1410\tfalse\tfalse\t0\t114307595\tLEDN\tLeiden Centraal\t2024-01-01 02:35:00+01\t0\tfalse\t2024-01-01 02:40:00+01\t0\tfalse\ttrue\t5b\t8b\n",
      "\n"
     ]
    }
   ],
   "source": [
    "duckdb.sql(\"\"\"\n",
    "COPY (SELECT * FROM \"data/services-2024.csv\") TO \"data/services_2024_duckdb.tsv\" (HEADER, DELIMITER \"\\t\");\n",
    "\"\"\")\n",
    "\n",
    "with open(\"data/services_2024_duckdb.tsv\") as file:\n",
    "    i = 0\n",
    "    for i, line in enumerate(file):\n",
    "        i += 1\n",
    "        print(line)\n",
    "        if i == 5:\n",
    "            break"
   ]
  },
  {
   "cell_type": "markdown",
   "id": "0894db81-7f8b-4617-961d-6e013115b25e",
   "metadata": {},
   "source": [
    "**Exercise**\n",
    "\n",
    "1. Convert the 2024 services file into JSON, JSON Lines and Parquet files. Use ZSTD compression for Parquet. Use [DuckDB documentation](https://duckdb.org/docs/stable/sql/statements/copy.html#format-specific-options).\n",
    "2. Compare file size of each file format (including CSV) in MB.\n",
    "3. Compare loading time of each file format (including CSV), e.g. to count how many trains arrived at Rotterdam Centraal station. Use `time` module. Report mean time of 3 repetitions."
   ]
  },
  {
   "cell_type": "markdown",
   "id": "59ed620b",
   "metadata": {},
   "source": [
    "Ex.1 Json"
   ]
  },
  {
   "cell_type": "code",
   "execution_count": null,
   "id": "7e6303c7",
   "metadata": {},
   "outputs": [
    {
     "data": {
      "application/vnd.jupyter.widget-view+json": {
       "model_id": "d8029728778b4d4fb209ad474f605544",
       "version_major": 2,
       "version_minor": 0
      },
      "text/plain": [
       "FloatProgress(value=0.0, layout=Layout(width='auto'), style=ProgressStyle(bar_color='black'))"
      ]
     },
     "metadata": {},
     "output_type": "display_data"
    }
   ],
   "source": [
    "duckdb.sql(\"\"\"\n",
    "COPY (SELECT * FROM \"data/services-2024.csv\") TO \"data/services_2024_duckdb.json\";\n",
    "\"\"\")"
   ]
  },
  {
   "cell_type": "markdown",
   "id": "dcaf44f0",
   "metadata": {},
   "source": [
    "Ex. 1 Jsonl"
   ]
  },
  {
   "cell_type": "code",
   "execution_count": null,
   "id": "866bb448-26c7-4e93-b27c-1594968f2d78",
   "metadata": {},
   "outputs": [],
   "source": [
    "duckdb.sql(\"\"\"\n",
    "COPY (SELECT * FROM \"data/services-2024.csv\") TO \"data/services_2024_duckdb.jsonl\";\n",
    "\"\"\")"
   ]
  },
  {
   "cell_type": "markdown",
   "id": "a0383f8e",
   "metadata": {},
   "source": [
    "Ex. 1 Parquet"
   ]
  },
  {
   "cell_type": "markdown",
   "id": "c9f18a0f-9b7f-4d2a-9813-778d8b1305c6",
   "metadata": {},
   "source": [
    "## DuckDB interoperability"
   ]
  },
  {
   "cell_type": "markdown",
   "id": "30503632-321c-4e49-ad37-dc35f3acb1f7",
   "metadata": {},
   "source": [
    "DuckDB is highly interoperable with Python and with data processing frameworks like Pandas and Polars. It can convert results to them, as well as query DataFrames with SQL. This has a few uses:\n",
    "- switch to SQL whenever you want\n",
    "- use DuckDB for fast and robust data reading, e.g. for CSV\n",
    "- convert to Pandas for plotting the results\n",
    "- pool data from various sources with DuckDB and then build complex workflows with DataFrames\n",
    "\n",
    "Getting results in Python works similarly to `psycopg`, with methods `.fetchone()` and `.fetchall()`.\n",
    "\n",
    "Let's see how many services were run in January and December 2024."
   ]
  },
  {
   "cell_type": "code",
   "execution_count": null,
   "id": "39b810aa-956c-4fbf-8258-7c24f86f9fd2",
   "metadata": {},
   "outputs": [],
   "source": [
    "num_jan_services = duckdb.sql(\"\"\"\n",
    "SELECT COUNT(DISTINCT \"Service:RDT-ID\")\n",
    "FROM \"data/services-2024.csv\"\n",
    "WHERE \"Service:Date\" BETWEEN '2024-01-01' AND '2024-01-31'\n",
    "\"\"\")\n",
    "num_jan_services = num_jan_services.fetchone()[0]\n",
    "\n",
    "num_dec_services = duckdb.sql(\"\"\"\n",
    "SELECT COUNT(DISTINCT \"Service:RDT-ID\")\n",
    "FROM \"data/services-2024.csv\"\n",
    "WHERE \"Service:Date\" BETWEEN '2024-12-01' AND '2024-12-31'\n",
    "\"\"\")\n",
    "num_dec_services = num_dec_services.fetchone()[0]\n",
    "\n",
    "print(f\"January services: {num_jan_services}\")\n",
    "print(f\"December services: {num_dec_services}\")"
   ]
  },
  {
   "cell_type": "markdown",
   "id": "e38253fe-76af-41f3-8f2f-4d767c2e5fda",
   "metadata": {},
   "source": [
    "Converting to Pandas is similar, with method `.to_df()` (aliases: `.fetch_df()`, `.df()`). Let's fetch all services by month."
   ]
  },
  {
   "cell_type": "code",
   "execution_count": null,
   "id": "f9ed1557-fcc6-4de7-91c9-3e555f7e7da1",
   "metadata": {},
   "outputs": [],
   "source": [
    "num_monthly_services = duckdb.sql(\"\"\"\n",
    "SELECT MONTH(\"Service:Date\") AS month, COUNT(DISTINCT \"Service:RDT-ID\") AS num_services \n",
    "FROM \"data/services-2024.csv\"\n",
    "GROUP BY MONTH(\"Service:Date\")\n",
    "ORDER BY month\n",
    "\"\"\").df()\n",
    "\n",
    "num_monthly_services"
   ]
  },
  {
   "cell_type": "markdown",
   "id": "835949bc-e95e-49c9-a8dc-aba5fb762144",
   "metadata": {},
   "source": [
    "Since we're already here, let's visualize this with Matplotlib. Pandas has handy shortcuts in `.plot` method ([documentation](https://pandas.pydata.org/docs/reference/api/pandas.DataFrame.plot.html))."
   ]
  },
  {
   "cell_type": "code",
   "execution_count": null,
   "id": "603ef954-be62-42a0-9c02-cde597281a22",
   "metadata": {},
   "outputs": [],
   "source": [
    "num_monthly_services.plot.line(\n",
    "    x=\"month\", y=\"num_services\", title=\"Number of services in 2024 by month\"\n",
    ")"
   ]
  },
  {
   "cell_type": "markdown",
   "id": "13f75c4e-eecf-4882-9b27-f0a11fd1b178",
   "metadata": {},
   "source": [
    "We can also query Pandas DataFrames by just using variable names like tables. Note that we should use Arrow backend for good performance here. Let's load the disruptions from 2023 and check for frequency of top 10 most popular causes. Then we will go back to Pandas and make a bar plot."
   ]
  },
  {
   "cell_type": "code",
   "execution_count": null,
   "id": "5ae1efef-389e-4c68-bb68-8050d2591302",
   "metadata": {},
   "outputs": [],
   "source": [
    "import pandas as pd\n",
    "\n",
    "df_disruptions = pd.read_csv(\"data/disruptions-2023.csv\", dtype_backend=\"pyarrow\")\n",
    "\n",
    "df_disruptions_statistics = duckdb.sql(\"\"\"\n",
    "SELECT statistical_cause_en AS cause, COUNT(*) / (SELECT COUNT(*) FROM df_disruptions) AS cause_frequency\n",
    "FROM df_disruptions\n",
    "GROUP BY statistical_cause_en\n",
    "ORDER BY cause_frequency DESC\n",
    "LIMIT 10\n",
    "\"\"\").df()\n",
    "\n",
    "df_disruptions_statistics.plot.barh(x=\"cause\", y=\"cause_frequency\")"
   ]
  },
  {
   "cell_type": "markdown",
   "id": "d61cf59c-316d-4443-b1a5-78486288b9e6",
   "metadata": {},
   "source": [
    "**Exercise**\n",
    "\n",
    "1. Extract the average daily arrival delays of 2024 train services with DuckDB. Note that NULL delay means zero, and you have to use [COALESCE function](https://duckdb.org/docs/stable/sql/functions/utility.html#coalesceexpr-) to fill them as zeros.\n",
    "2. Visualize those changes over time with Pandas on a line plot. Plot daily average, and also rolling mean (average) of 7 and 30 days to analyze longer trends."
   ]
  },
  {
   "cell_type": "code",
   "execution_count": null,
   "id": "cd725613-fec8-40fa-8dab-ab33fbc13ab6",
   "metadata": {},
   "outputs": [],
   "source": []
  },
  {
   "cell_type": "code",
   "execution_count": null,
   "id": "65945322-2276-4dbf-8931-d8f2e30217d8",
   "metadata": {},
   "outputs": [],
   "source": []
  }
 ],
 "metadata": {
  "kernelspec": {
   "display_name": "mlops-lab2",
   "language": "python",
   "name": "python3"
  },
  "language_info": {
   "codemirror_mode": {
    "name": "ipython",
    "version": 3
   },
   "file_extension": ".py",
   "mimetype": "text/x-python",
   "name": "python",
   "nbconvert_exporter": "python",
   "pygments_lexer": "ipython3",
   "version": "3.12.3"
  }
 },
 "nbformat": 4,
 "nbformat_minor": 5
}
